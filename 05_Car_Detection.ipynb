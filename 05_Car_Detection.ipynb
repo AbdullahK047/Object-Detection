{
 "cells": [
  {
   "cell_type": "markdown",
   "metadata": {},
   "source": [
    "### Import Libraries"
   ]
  },
  {
   "cell_type": "code",
   "execution_count": 2,
   "metadata": {},
   "outputs": [],
   "source": [
    "import cv2\n",
    "import numpy as np"
   ]
  },
  {
   "cell_type": "markdown",
   "metadata": {},
   "source": [
    "### Create Classifier"
   ]
  },
  {
   "cell_type": "code",
   "execution_count": 3,
   "metadata": {},
   "outputs": [],
   "source": [
    "car_classifier = cv2.CascadeClassifier('haarcascade_car.xml')"
   ]
  },
  {
   "cell_type": "markdown",
   "metadata": {},
   "source": [
    "### Capture Video"
   ]
  },
  {
   "cell_type": "code",
   "execution_count": 4,
   "metadata": {},
   "outputs": [],
   "source": [
    "filename = input(\"What's the name of your file? (Make sure it's in the same folder as this file) \")\n",
    "cap=cv2.VideoCapture(filename)"
   ]
  },
  {
   "cell_type": "markdown",
   "metadata": {},
   "source": [
    "### It's a Kind of Magic"
   ]
  },
  {
   "cell_type": "code",
   "execution_count": 5,
   "metadata": {},
   "outputs": [],
   "source": [
    "# while Loop\n",
    "while cap.isOpened():\n",
    "\n",
    "    # Read the capture\n",
    "    ret, frame = cap.read()\n",
    "    \n",
    "    # Pass the Frame to the Classifier\n",
    "    cars = car_classifier.detectMultiScale(frame, 1.4, 2)\n",
    "    \n",
    "    # for Loop\n",
    "    for (x,y,w,h) in cars:\n",
    "    \n",
    "        # Bound Boxes to Identified Bodies\n",
    "        cv2.rectangle(frame,\n",
    "                     (x,y),\n",
    "                     (x+w,y+h),\n",
    "                     (255,255,255),\n",
    "                     5)\n",
    "        cv2.imshow('Cars',frame)\n",
    "        \n",
    "        \n",
    "    # Exit with Esc button\n",
    "    if cv2.waitKey(1) & 0xFF == 27:\n",
    "        break\n",
    "    \n",
    "    \n",
    "# Release the Capture & Destroy All Windows\n",
    "cap.release()\n",
    "cv2.destroyAllWindows()"
   ]
  },
  {
   "cell_type": "markdown",
   "metadata": {},
   "source": [
    "All done!"
   ]
  }
 ],
 "metadata": {
  "kernelspec": {
   "display_name": "Python 3",
   "language": "python",
   "name": "python3"
  },
  "language_info": {
   "codemirror_mode": {
    "name": "ipython",
    "version": 3
   },
   "file_extension": ".py",
   "mimetype": "text/x-python",
   "name": "python",
   "nbconvert_exporter": "python",
   "pygments_lexer": "ipython3",
   "version": "3.8.3"
  }
 },
 "nbformat": 4,
 "nbformat_minor": 2
}
